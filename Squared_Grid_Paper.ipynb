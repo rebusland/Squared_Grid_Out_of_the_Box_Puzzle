{
 "cells": [
  {
   "cell_type": "markdown",
   "metadata": {},
   "source": [
    "# Squared grid puzzle\n",
    "## An extended solution to the mainstream \"thinking out of the box\" nine dots puzzle\n",
    "\n",
    "<!-- ![Alt Text](image path \"title\") -->\n",
    "![Alt Text](egg_puzzle.jpg \"Columbus egg puzzle\")\n",
    "\n",
    "The _nine dots puzzle_ has been first cited by Sam Loyd's in its 1914 _Cyclopedia of Puzzles_ (see image above).\n",
    "This intriguing conundrum was later revived by psychologists, salesmen and \"life coaches\" as a model of \"thinking outside of the box\", i.e. creative divergent thinking.\n",
    "\n",
    "In its basic formulation, the goal is to join nine dots arranged in a squared grid with the fewest number of straight lines, and without lifting the pen.\n",
    "\n",
    "TODO SHOW THE SOLUTION FOR NINE DOTS\n",
    "\n",
    "The basic version of the puzzle is very famous, so you won't find it difficult to learn more about it searching online, e.g. you can start here: https://en.wikipedia.org/wiki/Thinking_outside_the_box\n",
    "\n",
    "In this document, I will discuss on how to solve the generic problem in 2D for an arbitrary number of points of the squared grid; that is, the starting _9 dots puzzle_ is now the generic _9-16-25-36... dots \"meta-puzzle\"_. First,'ll show that the general solution can be drawn iteratively, as one may have already guessed. You will also be stunned to learn that starting from a particular integer upwards salesmen can no more refer to the grid problem as a \"thinking outside the box\" puzzle. Last but not least, I propose an intriguing algebraic interpretation of the solution for the general 2D problem.\n",
    "\n",
    "Python was used to implement the solver algorithm and to produce the nice animations.\n",
    "\n",
    "IMPORTANT: the generalized solution in 2D described below has been already proved, it's not an original result (see TODO mettere referenze ai paper sotto). As regards the algebraic interpretation of the puzzle, I don't know what to say: as for now, I didn't find any explicit counterpart by searching online but I may be wrong; in case nobody has already noticed the interesting numerical interpretation that I'll show later, you're welcome!\n",
    "\n",
    "Future developments: I'll work on solving the problem in multiple dimensions, you bet!"
   ]
  },
  {
   "cell_type": "code",
   "execution_count": null,
   "metadata": {},
   "outputs": [],
   "source": []
  }
 ],
 "metadata": {
  "kernelspec": {
   "display_name": "Python 3",
   "language": "python",
   "name": "python3"
  },
  "language_info": {
   "codemirror_mode": {
    "name": "ipython",
    "version": 3
   },
   "file_extension": ".py",
   "mimetype": "text/x-python",
   "name": "python",
   "nbconvert_exporter": "python",
   "pygments_lexer": "ipython3",
   "version": "3.8.3"
  }
 },
 "nbformat": 4,
 "nbformat_minor": 4
}
